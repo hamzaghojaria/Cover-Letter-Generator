{
 "cells": [
  {
   "cell_type": "code",
   "execution_count": 7,
   "metadata": {},
   "outputs": [
    {
     "name": "stdout",
     "output_type": "stream",
     "text": [
      "requirements.txt generated successfully!\n"
     ]
    }
   ],
   "source": [
    "import re\n",
    "import pkg_resources\n",
    "\n",
    "file_path = \"functions.py\"\n",
    "\n",
    "# Extract module names from file\n",
    "with open(file_path, \"r\", encoding=\"utf-8\") as f:\n",
    "    lines = f.readlines()\n",
    "\n",
    "modules = set()\n",
    "for line in lines:\n",
    "    match = re.match(r'^(?:import|from) (\\w+)', line)\n",
    "    if match:\n",
    "        modules.add(match.group(1))\n",
    "\n",
    "# Get installed versions\n",
    "installed_packages = {pkg.key: pkg.version for pkg in pkg_resources.working_set}\n",
    "\n",
    "# Write to requirements.txt\n",
    "with open(\"requirements1.txt\", \"w\") as f:\n",
    "    for module in modules:\n",
    "        module_lower = module.lower()\n",
    "        if module_lower in installed_packages:\n",
    "            f.write(f\"{module}=={installed_packages[module_lower]}\\n\")\n",
    "\n",
    "print(\"requirements.txt generated successfully!\")\n"
   ]
  },
  {
   "cell_type": "code",
   "execution_count": 3,
   "metadata": {},
   "outputs": [
    {
     "name": "stdout",
     "output_type": "stream",
     "text": [
      "Defaulting to user installation because normal site-packages is not writeable\n",
      "Collecting setuptools\n",
      "  Downloading setuptools-75.8.2-py3-none-any.whl.metadata (6.7 kB)\n",
      "Downloading setuptools-75.8.2-py3-none-any.whl (1.2 MB)\n",
      "   ---------------------------------------- 0.0/1.2 MB ? eta -:--:--\n",
      "   ---------------------------------------- 0.0/1.2 MB ? eta -:--:--\n",
      "   ---------------------------------------- 0.0/1.2 MB ? eta -:--:--\n",
      "   -------- ------------------------------- 0.3/1.2 MB ? eta -:--:--\n",
      "   -------- ------------------------------- 0.3/1.2 MB ? eta -:--:--\n",
      "   -------- ------------------------------- 0.3/1.2 MB ? eta -:--:--\n",
      "   -------- ------------------------------- 0.3/1.2 MB ? eta -:--:--\n",
      "   -------- ------------------------------- 0.3/1.2 MB ? eta -:--:--\n",
      "   -------- ------------------------------- 0.3/1.2 MB ? eta -:--:--\n",
      "   -------- ------------------------------- 0.3/1.2 MB ? eta -:--:--\n",
      "   -------- ------------------------------- 0.3/1.2 MB ? eta -:--:--\n",
      "   -------- ------------------------------- 0.3/1.2 MB ? eta -:--:--\n",
      "   -------- ------------------------------- 0.3/1.2 MB ? eta -:--:--\n",
      "   -------- ------------------------------- 0.3/1.2 MB ? eta -:--:--\n",
      "   -------- ------------------------------- 0.3/1.2 MB ? eta -:--:--\n",
      "   -------- ------------------------------- 0.3/1.2 MB ? eta -:--:--\n",
      "   -------- ------------------------------- 0.3/1.2 MB ? eta -:--:--\n",
      "   -------- ------------------------------- 0.3/1.2 MB ? eta -:--:--\n",
      "   -------- ------------------------------- 0.3/1.2 MB ? eta -:--:--\n",
      "   -------- ------------------------------- 0.3/1.2 MB ? eta -:--:--\n",
      "   -------- ------------------------------- 0.3/1.2 MB ? eta -:--:--\n",
      "   -------- ------------------------------- 0.3/1.2 MB ? eta -:--:--\n",
      "   -------- ------------------------------- 0.3/1.2 MB ? eta -:--:--\n",
      "   -------- ------------------------------- 0.3/1.2 MB ? eta -:--:--\n",
      "   -------- ------------------------------- 0.3/1.2 MB ? eta -:--:--\n",
      "   -------- ------------------------------- 0.3/1.2 MB ? eta -:--:--\n",
      "   -------- ------------------------------- 0.3/1.2 MB ? eta -:--:--\n",
      "   -------- ------------------------------- 0.3/1.2 MB ? eta -:--:--\n",
      "   -------- ------------------------------- 0.3/1.2 MB ? eta -:--:--\n",
      "   ----------------- ---------------------- 0.5/1.2 MB 47.5 kB/s eta 0:00:15\n",
      "   ----------------- ---------------------- 0.5/1.2 MB 47.5 kB/s eta 0:00:15\n",
      "   ----------------- ---------------------- 0.5/1.2 MB 47.5 kB/s eta 0:00:15\n",
      "   ----------------- ---------------------- 0.5/1.2 MB 47.5 kB/s eta 0:00:15\n",
      "   ----------------- ---------------------- 0.5/1.2 MB 47.5 kB/s eta 0:00:15\n",
      "   ----------------- ---------------------- 0.5/1.2 MB 47.5 kB/s eta 0:00:15\n",
      "   ----------------- ---------------------- 0.5/1.2 MB 47.5 kB/s eta 0:00:15\n",
      "   ----------------- ---------------------- 0.5/1.2 MB 47.5 kB/s eta 0:00:15\n",
      "   ----------------- ---------------------- 0.5/1.2 MB 47.5 kB/s eta 0:00:15\n",
      "   ----------------- ---------------------- 0.5/1.2 MB 47.5 kB/s eta 0:00:15\n",
      "   ----------------- ---------------------- 0.5/1.2 MB 47.5 kB/s eta 0:00:15\n",
      "   ----------------- ---------------------- 0.5/1.2 MB 47.5 kB/s eta 0:00:15\n",
      "   ----------------- ---------------------- 0.5/1.2 MB 47.5 kB/s eta 0:00:15\n",
      "   ----------------- ---------------------- 0.5/1.2 MB 47.5 kB/s eta 0:00:15\n",
      "   ----------------- ---------------------- 0.5/1.2 MB 47.5 kB/s eta 0:00:15\n",
      "   ----------------- ---------------------- 0.5/1.2 MB 47.5 kB/s eta 0:00:15\n",
      "   ----------------- ---------------------- 0.5/1.2 MB 47.5 kB/s eta 0:00:15\n",
      "   ----------------- ---------------------- 0.5/1.2 MB 47.5 kB/s eta 0:00:15\n",
      "   ----------------- ---------------------- 0.5/1.2 MB 47.5 kB/s eta 0:00:15\n",
      "   ----------------- ---------------------- 0.5/1.2 MB 47.5 kB/s eta 0:00:15\n",
      "   ----------------- ---------------------- 0.5/1.2 MB 47.5 kB/s eta 0:00:15\n",
      "   ------------------------- -------------- 0.8/1.2 MB 52.9 kB/s eta 0:00:09\n",
      "   ------------------------- -------------- 0.8/1.2 MB 52.9 kB/s eta 0:00:09\n",
      "   ------------------------- -------------- 0.8/1.2 MB 52.9 kB/s eta 0:00:09\n",
      "   ------------------------- -------------- 0.8/1.2 MB 52.9 kB/s eta 0:00:09\n",
      "   ------------------------- -------------- 0.8/1.2 MB 52.9 kB/s eta 0:00:09\n",
      "   ------------------------- -------------- 0.8/1.2 MB 52.9 kB/s eta 0:00:09\n",
      "   ------------------------- -------------- 0.8/1.2 MB 52.9 kB/s eta 0:00:09\n",
      "   ------------------------- -------------- 0.8/1.2 MB 52.9 kB/s eta 0:00:09\n",
      "   ------------------------- -------------- 0.8/1.2 MB 52.9 kB/s eta 0:00:09\n",
      "   ------------------------- -------------- 0.8/1.2 MB 52.9 kB/s eta 0:00:09\n",
      "   ------------------------- -------------- 0.8/1.2 MB 52.9 kB/s eta 0:00:09\n",
      "   ------------------------- -------------- 0.8/1.2 MB 52.9 kB/s eta 0:00:09\n",
      "   ------------------------- -------------- 0.8/1.2 MB 52.9 kB/s eta 0:00:09\n",
      "   ---------------------------------- ----- 1.0/1.2 MB 62.3 kB/s eta 0:00:03\n",
      "   ---------------------------------- ----- 1.0/1.2 MB 62.3 kB/s eta 0:00:03\n",
      "   ---------------------------------- ----- 1.0/1.2 MB 62.3 kB/s eta 0:00:03\n",
      "   ---------------------------------- ----- 1.0/1.2 MB 62.3 kB/s eta 0:00:03\n",
      "   ---------------------------------- ----- 1.0/1.2 MB 62.3 kB/s eta 0:00:03\n",
      "   ---------------------------------- ----- 1.0/1.2 MB 62.3 kB/s eta 0:00:03\n",
      "   ---------------------------------- ----- 1.0/1.2 MB 62.3 kB/s eta 0:00:03\n",
      "   ---------------------------------- ----- 1.0/1.2 MB 62.3 kB/s eta 0:00:03\n",
      "   ---------------------------------- ----- 1.0/1.2 MB 62.3 kB/s eta 0:00:03\n",
      "   ---------------------------------- ----- 1.0/1.2 MB 62.3 kB/s eta 0:00:03\n",
      "   ---------------------------------- ----- 1.0/1.2 MB 62.3 kB/s eta 0:00:03\n",
      "   ---------------------------------- ----- 1.0/1.2 MB 62.3 kB/s eta 0:00:03\n",
      "   ---------------------------------- ----- 1.0/1.2 MB 62.3 kB/s eta 0:00:03\n",
      "   ---------------------------------- ----- 1.0/1.2 MB 62.3 kB/s eta 0:00:03\n",
      "   ---------------------------------------- 1.2/1.2 MB 61.8 kB/s eta 0:00:00\n",
      "Installing collected packages: setuptools\n",
      "Successfully installed setuptools-75.8.2\n",
      "Note: you may need to restart the kernel to use updated packages.\n"
     ]
    }
   ],
   "source": [
    "pip install --upgrade setuptools"
   ]
  },
  {
   "cell_type": "code",
   "execution_count": 4,
   "metadata": {},
   "outputs": [
    {
     "name": "stdout",
     "output_type": "stream",
     "text": [
      "Defaulting to user installation because normal site-packages is not writeableNote: you may need to restart the kernel to use updated packages.\n"
     ]
    },
    {
     "name": "stderr",
     "output_type": "stream",
     "text": [
      "  error: subprocess-exited-with-error\n",
      "  \n",
      "  × Preparing metadata (pyproject.toml) did not run successfully.\n",
      "  │ exit code: 1\n",
      "  ╰─> [6 lines of output]\n",
      "      usage: setup.py [global_opts] cmd1 [cmd1_opts] [cmd2 [cmd2_opts] ...]\n",
      "         or: setup.py --help [cmd1 cmd2 ...]\n",
      "         or: setup.py --help-commands\n",
      "         or: setup.py cmd --help\n",
      "      \n",
      "      error: invalid command 'dist_info'\n",
      "      [end of output]\n",
      "  \n",
      "  note: This error originates from a subprocess, and is likely not a problem with pip.\n",
      "error: metadata-generation-failed\n",
      "\n",
      "× Encountered error while generating package metadata.\n",
      "╰─> See above for output.\n",
      "\n",
      "note: This is an issue with the package mentioned above, not pip.\n",
      "hint: See above for details.\n"
     ]
    },
    {
     "name": "stdout",
     "output_type": "stream",
     "text": [
      "\n",
      "Collecting distribute\n",
      "  Downloading distribute-0.7.3.zip (145 kB)\n",
      "  Installing build dependencies: started\n",
      "  Installing build dependencies: finished with status 'done'\n",
      "  Getting requirements to build wheel: started\n",
      "  Getting requirements to build wheel: finished with status 'done'\n",
      "  Preparing metadata (pyproject.toml): started\n",
      "  Preparing metadata (pyproject.toml): finished with status 'error'\n"
     ]
    }
   ],
   "source": [
    "pip install --upgrade distribute "
   ]
  },
  {
   "cell_type": "code",
   "execution_count": null,
   "metadata": {},
   "outputs": [],
   "source": []
  }
 ],
 "metadata": {
  "kernelspec": {
   "display_name": "Python 3",
   "language": "python",
   "name": "python3"
  },
  "language_info": {
   "codemirror_mode": {
    "name": "ipython",
    "version": 3
   },
   "file_extension": ".py",
   "mimetype": "text/x-python",
   "name": "python",
   "nbconvert_exporter": "python",
   "pygments_lexer": "ipython3",
   "version": "3.12.9"
  }
 },
 "nbformat": 4,
 "nbformat_minor": 2
}
